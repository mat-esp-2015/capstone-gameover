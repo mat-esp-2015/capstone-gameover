{
 "cells": [
  {
   "cell_type": "raw",
   "metadata": {},
   "source": [
    "# Lendo dados de geociência"
   ]
  },
  {
   "cell_type": "markdown",
   "metadata": {},
   "source": [
    "## License\n",
    "\n",
    "All content can be freely used and adapted under the terms of the \n",
    "[Creative Commons Attribution 4.0 International License](http://creativecommons.org/licenses/by/4.0/).\n",
    "\n",
    "![Creative Commons License](https://i.creativecommons.org/l/by/4.0/88x31.png)"
   ]
  },
  {
   "cell_type": "markdown",
   "metadata": {},
   "source": [
    "## Imports\n",
    "\n",
    "Coloque **todos** os `import` na célula abaixo. Não se esqueça do `%matplotlib inline` para que os gráficos apareçam no notebook."
   ]
  },
  {
   "cell_type": "code",
   "execution_count": 1,
   "metadata": {
    "collapsed": false
   },
   "outputs": [],
   "source": [
    "%matplotlib inline\n",
    "import matplotlib.pyplot as plt\n",
    "import numpy as np\n",
    "import math"
   ]
  },
  {
   "cell_type": "markdown",
   "metadata": {},
   "source": [
    "## IMPORTANTE\n",
    "\n",
    "Agora que vocês sabem técnicas de programação defensiva, eu espero que todo o código que vocês fizerem abaixo utilizem essas técnicas. Crie docstrings para suas funções, cheque as entradas (quando for possível) e cheque as saídas. **Não esqueçam dos comentários**."
   ]
  },
  {
   "cell_type": "markdown",
   "metadata": {},
   "source": [
    "## Temperatura no Rio de Janeiro\n",
    "\n",
    "O arquivo `data/23.31S-42.82W-TAVG-Trend.txt` contém dados de temperatura média mensal para a cidade do Rio de Janeiro. O arquivo também contém médias móveis anual, 5, 10 e 20 anos. Esses dados foram baixados do site Berkeley Earth (http://berkeleyearth.lbl.gov/locations/23.31S-42.82W).\n",
    "\n",
    "### Tarefa\n",
    "\n",
    "Faça duas funções, uma que lê os dados de temperatura mensal, outra que lê os dados da média móvel anual.\n",
    "As duas funções devem:\n",
    "\n",
    "* Receber como entrada **somente** o nome do arquivo de dados.\n",
    "* Retornar duas listas: uma com as datas referentes aos dados e outra com os dados de temperatura.\n",
    "* As datas retornadas devem ser em anos decimais. Ex: Janeiro de 1984 seria 1984.0833333333333 (1984 + 1/12).\n",
    "* Datas sem valores de temperatura (NaN) devem ser ignoradas (não incluidas nas listas).\n",
    "\n",
    "Utilize suas funções para carregar os dados e fazer um gráfico da temperatura média mensal e média movel anual pelo tempo."
   ]
  },
  {
   "cell_type": "code",
   "execution_count": 4,
   "metadata": {
    "collapsed": false
   },
   "outputs": [],
   "source": [
    "def ler_temp_mes(nome_arq):\n",
    "    \n",
    "    #Iniciando as variaveis básicas\n",
    "    vetor_dados = []\n",
    "    arq_lido = open(nome_arq)\n",
    "    datas = []\n",
    "    dados = []\n",
    "    dados_temp = []\n",
    "    linha_temp = []\n",
    "    datas_decimais = []\n",
    "    #Este bloco de programa tem por objetivo filtrar os dados do arquivo lido, segundo o professor estabeleceu na pratica.\n",
    "    for item in arq_lido:\n",
    "        vetor_dados.append(item)\n",
    "    n_linhas = len(vetor_dados)\n",
    "    for item in range(0, n_linhas -1  , 1):\n",
    "            if vetor_dados[item][0] != '%':\n",
    "                linha = vetor_dados[item].split()\n",
    "                if len(linha) != 0 and linha[4] != 'NaN':\n",
    "                    #apartir daqui, teremos um vertor bidimensional chamado dados_temp, que ira conter os dados, ainda não tratados, porém selecionados segundo o filtro do bloco anterior.\n",
    "                    dados_temp.append(linha)\n",
    "    num = len(dados_temp)\n",
    "    #aqui inicia-se o bloco que irá fatiar a lista de dados_temp e separar o que é data de dados.\n",
    "    for i in range(num):\n",
    "        linha_temp.append([])\n",
    "        for j in range(len(dados_temp[0])):\n",
    "            var = dados_temp[i][j]\n",
    "            linha_temp[i].append(float(var))\n",
    "    for ele in range(len(linha_temp)):\n",
    "        temp = linha_temp[ele]\n",
    "        datas.append(temp[0:2])\n",
    "        dados.append(temp[2:13])\n",
    "    #calculando as dadas decimais.\n",
    "    for indice in range(len(datas)):\n",
    "        datas_decimais.append([])\n",
    "        datas_decimais[indice].append(datas[indice][0]+ datas[indice][1]/12)\n",
    "    #calcula a média mensal    \n",
    "    dados_array = np.array(dados)\n",
    "    matriz_tp = dados_array[:,0]\n",
    "    for ide in range(len(matriz_tp)): \n",
    "        mes_temp = matriz_tp + 24.01\n",
    "    arq_lido.close()\n",
    "    return mes_temp, datas_decimais\n",
    "\n",
    "\n",
    "   "
   ]
  },
  {
   "cell_type": "code",
   "execution_count": 5,
   "metadata": {
    "collapsed": true
   },
   "outputs": [],
   "source": [
    "[temp_mensal, datas_decimais] = ler_temp_mes('23.31S-42.82W-TAVG-Trend.txt')"
   ]
  },
  {
   "cell_type": "code",
   "execution_count": null,
   "metadata": {
    "collapsed": false
   },
   "outputs": [],
   "source": []
  },
  {
   "cell_type": "code",
   "execution_count": null,
   "metadata": {
    "collapsed": false
   },
   "outputs": [],
   "source": []
  },
  {
   "cell_type": "code",
   "execution_count": null,
   "metadata": {
    "collapsed": false
   },
   "outputs": [],
   "source": []
  },
  {
   "cell_type": "code",
   "execution_count": null,
   "metadata": {
    "collapsed": true
   },
   "outputs": [],
   "source": []
  },
  {
   "cell_type": "code",
   "execution_count": null,
   "metadata": {
    "collapsed": true
   },
   "outputs": [],
   "source": []
  },
  {
   "cell_type": "code",
   "execution_count": null,
   "metadata": {
    "collapsed": true
   },
   "outputs": [],
   "source": []
  },
  {
   "cell_type": "code",
   "execution_count": null,
   "metadata": {
    "collapsed": true
   },
   "outputs": [],
   "source": []
  },
  {
   "cell_type": "markdown",
   "metadata": {},
   "source": [
    "### Resultado esperado\n",
    "\n",
    "O gráfico final deve ser parecido com o abaixo:\n",
    "\n",
    "![images/media-mensal-temp-rio.png](images/media-mensal-temp-rio.png)"
   ]
  },
  {
   "cell_type": "markdown",
   "metadata": {},
   "source": [
    "### Tarefa\n",
    "\n",
    "Faça uma função que calcule a temperatura média anual a partir das temperaturas mensais. A sua função deve:\n",
    "\n",
    "* Receber como entrada a lista das datas e a lista das temperaturas mensais.\n",
    "* Retornar duas listas: uma com os anos e outra com as temperaturas médias correspondetes.\n",
    "* Anos que não contem dados de todos os 12 meses devem ser ignorados (não incluídos nas listas retornadas).\n",
    "\n",
    "Utilize sua função para calcular a média anual. Faça um gráfico da temperatura média anual por ano junto com a média móvel anual.\n",
    "\n",
    "**Dica**: A função `math.floor` retorna o número inteiro que precede um número real. Ex: `math.floor(1984.23) == 1984`"
   ]
  },
  {
   "cell_type": "code",
   "execution_count": null,
   "metadata": {
    "collapsed": true
   },
   "outputs": [],
   "source": []
  },
  {
   "cell_type": "code",
   "execution_count": null,
   "metadata": {
    "collapsed": true
   },
   "outputs": [],
   "source": []
  },
  {
   "cell_type": "code",
   "execution_count": null,
   "metadata": {
    "collapsed": true
   },
   "outputs": [],
   "source": []
  },
  {
   "cell_type": "code",
   "execution_count": null,
   "metadata": {
    "collapsed": true
   },
   "outputs": [],
   "source": []
  },
  {
   "cell_type": "code",
   "execution_count": null,
   "metadata": {
    "collapsed": true
   },
   "outputs": [],
   "source": []
  },
  {
   "cell_type": "markdown",
   "metadata": {},
   "source": [
    "### Resultado esperado\n",
    "\n",
    "O gráfico final deve ser parecido com o abaixo:\n",
    "\n",
    "![images/media-anual-temp-rio.png](images/media-anual-temp-rio.png)"
   ]
  },
  {
   "cell_type": "markdown",
   "metadata": {},
   "source": [
    "## Tarefa Bônus\n",
    "\n",
    "Salve os dados da média anual em um arquivo CSV (comma separated values) chamado `temp-media-anual.csv`. Os valores devem ser separados por `,`. A primeira coluna deve conter os anos e a segunda as temperaturas. Esse arquivo deve estar presente em seu repositório (dê `git add` nele)."
   ]
  },
  {
   "cell_type": "code",
   "execution_count": null,
   "metadata": {
    "collapsed": true
   },
   "outputs": [],
   "source": []
  },
  {
   "cell_type": "code",
   "execution_count": null,
   "metadata": {
    "collapsed": true
   },
   "outputs": [],
   "source": []
  },
  {
   "cell_type": "code",
   "execution_count": null,
   "metadata": {
    "collapsed": true
   },
   "outputs": [],
   "source": []
  },
  {
   "cell_type": "code",
   "execution_count": null,
   "metadata": {
    "collapsed": true
   },
   "outputs": [],
   "source": []
  },
  {
   "cell_type": "code",
   "execution_count": null,
   "metadata": {
    "collapsed": true
   },
   "outputs": [],
   "source": []
  }
 ],
 "metadata": {
  "kernelspec": {
   "display_name": "Python 3",
   "language": "python",
   "name": "python3"
  },
  "language_info": {
   "codemirror_mode": {
    "name": "ipython",
    "version": 3
   },
   "file_extension": ".py",
   "mimetype": "text/x-python",
   "name": "python",
   "nbconvert_exporter": "python",
   "pygments_lexer": "ipython3",
   "version": "3.4.3"
  }
 },
 "nbformat": 4,
 "nbformat_minor": 0
}
